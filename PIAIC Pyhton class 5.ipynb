{
 "cells": [
  {
   "cell_type": "markdown",
   "metadata": {},
   "source": [
    "# dictionary"
   ]
  },
  {
   "cell_type": "code",
   "execution_count": 1,
   "metadata": {},
   "outputs": [
    {
     "data": {
      "text/plain": [
       "{'ID': 2, 'name': 'Abdullah', 'Course': 'A.I'}"
      ]
     },
     "execution_count": 1,
     "metadata": {},
     "output_type": "execute_result"
    }
   ],
   "source": [
    "#item = key : value\n",
    "\n",
    "d1= {\"ID\": 2,\n",
    "    \"name\": \"Abdullah\",\n",
    "    \"Course\": \"A.I\"}\n",
    "d1"
   ]
  },
  {
   "cell_type": "code",
   "execution_count": 3,
   "metadata": {},
   "outputs": [
    {
     "data": {
      "text/plain": [
       "{'id': 25, 'name': 'Abdullah', 'Course': 'A.I'}"
      ]
     },
     "execution_count": 3,
     "metadata": {},
     "output_type": "execute_result"
    }
   ],
   "source": [
    "d1= {\"id\":2,\n",
    "    \"name\":\"Abdullah\",\n",
    "    \"id\": 25,\n",
    "    \"Course\":\"A.I\"}\n",
    "d1"
   ]
  },
  {
   "cell_type": "code",
   "execution_count": 8,
   "metadata": {},
   "outputs": [
    {
     "data": {
      "text/plain": [
       "{'id': 10, 'name': 'Abdullah', 'course': 'A.I'}"
      ]
     },
     "execution_count": 8,
     "metadata": {},
     "output_type": "execute_result"
    }
   ],
   "source": [
    "d1= {}\n",
    "d1[\"id\"]= 10\n",
    "d1[\"name\"]= \"Abdullah\"\n",
    "d1[\"course\"]=\"A.I\"\n",
    "\n",
    "d1"
   ]
  },
  {
   "cell_type": "code",
   "execution_count": 17,
   "metadata": {},
   "outputs": [
    {
     "name": "stdout",
     "output_type": "stream",
     "text": [
      "{'id': 10, 'name': 'Abdullah', 'course': 'A.I'}\n"
     ]
    },
    {
     "data": {
      "text/plain": [
       "{'id': 10, 'name': 'Abdullah', 'course': 'A.I'}"
      ]
     },
     "execution_count": 17,
     "metadata": {},
     "output_type": "execute_result"
    }
   ],
   "source": [
    "print(d1)\n",
    "d2= d1.copy()\n",
    "d2"
   ]
  },
  {
   "cell_type": "code",
   "execution_count": 2,
   "metadata": {},
   "outputs": [
    {
     "name": "stdout",
     "output_type": "stream",
     "text": [
      "{'name': None, 'id': None, 'contact': None, 'DOB': None, 'CNIC': None}\n"
     ]
    }
   ],
   "source": [
    "l1= [\"name\",\"id\",\"contact\",\"DOB\",\"CNIC\"]\n",
    "\n",
    "d3=dict.fromkeys(l1)\n",
    "print(d3)"
   ]
  },
  {
   "cell_type": "code",
   "execution_count": 4,
   "metadata": {},
   "outputs": [
    {
     "name": "stdout",
     "output_type": "stream",
     "text": [
      "Input some comma seprated values : id,name,contact,DOB,CNIC\n",
      "List :  ['id', 'name', 'contact', 'DOB', 'CNIC']\n"
     ]
    },
    {
     "data": {
      "text/plain": [
       "{'id': None, 'name': None, 'contact': None, 'DOB': None, 'CNIC': None}"
      ]
     },
     "execution_count": 4,
     "metadata": {},
     "output_type": "execute_result"
    }
   ],
   "source": [
    "values = input(\"Input some comma seprated values : \")\n",
    "list = values.split(\",\")\n",
    "#tuple = tuple(list)\n",
    "print('List : ',list)\n",
    "d3=dict.fromkeys(list)\n",
    "d3"
   ]
  },
  {
   "cell_type": "code",
   "execution_count": 11,
   "metadata": {},
   "outputs": [
    {
     "name": "stdout",
     "output_type": "stream",
     "text": [
      "Input some comma seprated keys : a,b,c,d,e\n",
      "List :  ['a', 'b', 'c', 'd', 'e']\n",
      "Input some comma seprated values : 1,2,3,4,5,6\n"
     ]
    },
    {
     "data": {
      "text/plain": [
       "{'a': '1', 'b': '2', 'c': '3', 'd': '4', 'e': '5'}"
      ]
     },
     "execution_count": 11,
     "metadata": {},
     "output_type": "execute_result"
    }
   ],
   "source": [
    "keys = input(\"Input some comma seprated keys : \")\n",
    "list1 = keys.split(\",\")\n",
    "#tuple = tuple(list)\n",
    "print('List : ',list1)\n",
    "d4=dict.fromkeys(list1)\n",
    "keys = input(\"Input some comma seprated values : \")\n",
    "list2 = keys.split(\",\")\n",
    "for i in range(len(list1)):\n",
    "    d4[list1[i]]=list2[i]\n",
    "d4"
   ]
  },
  {
   "cell_type": "code",
   "execution_count": 13,
   "metadata": {},
   "outputs": [
    {
     "name": "stdout",
     "output_type": "stream",
     "text": [
      "enter keys: a,b,c\n",
      "enter values: x,y,z\n"
     ]
    },
    {
     "data": {
      "text/plain": [
       "{'a': 'x', 'b': 'y', 'c': 'z'}"
      ]
     },
     "execution_count": 13,
     "metadata": {},
     "output_type": "execute_result"
    }
   ],
   "source": [
    "l1= input(\"enter keys: \").split(\",\")\n",
    "l2= input(\"enter values: \").split(\",\")\n",
    "\n",
    "{l1[i]:l2[i] for i in range(len(l1))}"
   ]
  },
  {
   "cell_type": "code",
   "execution_count": 17,
   "metadata": {},
   "outputs": [
    {
     "name": "stdout",
     "output_type": "stream",
     "text": [
      "enter keys: a,b,c\n",
      "enter values: x,y,z\n"
     ]
    },
    {
     "data": {
      "text/plain": [
       "{'a': 'x', 'b': 'y', 'c': 'z'}"
      ]
     },
     "execution_count": 17,
     "metadata": {},
     "output_type": "execute_result"
    }
   ],
   "source": [
    "l1= input(\"enter keys: \").split(\",\")\n",
    "l2= input(\"enter values: \").split(\",\")\n",
    "#parse the zip into the data type you want to zip the lists into. it can be list or dict or whatever\n",
    "d5=dict(zip(l1,l2))\n",
    "d5"
   ]
  },
  {
   "cell_type": "code",
   "execution_count": 21,
   "metadata": {},
   "outputs": [
    {
     "name": "stdout",
     "output_type": "stream",
     "text": [
      "enter id: 1\n",
      "enter name: abm\n",
      "Enter skills: a,b,c,d\n"
     ]
    }
   ],
   "source": [
    "dict1={}\n",
    "dict1[\"id\"]=input(\"enter id: \")\n",
    "dict1[\"name\"]=input(\"enter name: \")\n",
    "dict1[\"skills\"]= input(\"Enter skills: \").split(\",\")"
   ]
  },
  {
   "cell_type": "code",
   "execution_count": 23,
   "metadata": {},
   "outputs": [
    {
     "data": {
      "text/plain": [
       "{'id': '1', 'name': 'abm', 'skills': ['a', 'b', 'c', 'd']}"
      ]
     },
     "execution_count": 23,
     "metadata": {},
     "output_type": "execute_result"
    }
   ],
   "source": [
    "dict1\n",
    "#sorted(dic1.items(), key=lambda x: x[0])"
   ]
  },
  {
   "cell_type": "code",
   "execution_count": 11,
   "metadata": {},
   "outputs": [
    {
     "data": {
      "text/plain": [
       "[('A', 'z', '0'),\n",
       " ('B', 'y', '1'),\n",
       " ('C', 'x', '2'),\n",
       " ('D', 'w', '3'),\n",
       " ('E', 'v', '4'),\n",
       " ('F', 'u', '5'),\n",
       " ('G', 't', '6'),\n",
       " ('H', 's', '7'),\n",
       " ('I', 'r', '8'),\n",
       " ('J', 'q', '9')]"
      ]
     },
     "execution_count": 11,
     "metadata": {},
     "output_type": "execute_result"
    }
   ],
   "source": [
    "# a=[chr(i) for i in range(65,91)]\n",
    "b=[chr(i) for i in range(97,123)]\n",
    "c=[chr(i) for i in range(48,58)]\n",
    "\n",
    "d= zip(a,sorted(b, reverse=True),c)\n",
    "l6=list(d)\n",
    "l6\n",
    "sorted(l6, key=lambda kv: kv[0])"
   ]
  },
  {
   "cell_type": "code",
   "execution_count": 32,
   "metadata": {},
   "outputs": [
    {
     "data": {
      "text/plain": [
       "[('J', 'q', '9'),\n",
       " ('I', 'r', '8'),\n",
       " ('H', 's', '7'),\n",
       " ('G', 't', '6'),\n",
       " ('F', 'u', '5'),\n",
       " ('E', 'v', '4'),\n",
       " ('D', 'w', '3'),\n",
       " ('C', 'x', '2'),\n",
       " ('B', 'y', '1'),\n",
       " ('A', 'z', '0')]"
      ]
     },
     "execution_count": 32,
     "metadata": {},
     "output_type": "execute_result"
    }
   ],
   "source": [
    "d=[('A', 'z', '0'),\n",
    " ('B', 'y', '1'),\n",
    " ('C', 'x', '2'),\n",
    " ('G', 't', '6'),\n",
    " ('E', 'v', '4'),\n",
    " ('F', 'u', '5'),\n",
    " ('D', 'w', '3'),\n",
    " ('H', 's', '7'),\n",
    " ('I', 'r', '8'),\n",
    " ('J', 'q', '9')]\n",
    "#def abc(x):\n",
    "#    return x[2]\n",
    "\n",
    "#sorted(l6,reverse=True, key=abc)\n",
    "#abc(d)\n",
    "#but it is not practical to create a function just for one use. so we use lambda function, \n",
    "#i.e a single use function that is created and destroyed in the line where  it it written. so we do this\n",
    "sorted(l6,reverse=True, key=lambda x:x[2])\n",
    "#whichever column we want to use as the basis of sorting, we can enter that column's index (0,1 or 2) in the square brackets\n",
    "#of the lambda function"
   ]
  },
  {
   "cell_type": "code",
   "execution_count": 34,
   "metadata": {},
   "outputs": [
    {
     "data": {
      "text/plain": [
       "{'d': '5', 'c': '4', 'b': '3', 'e': '2', 'a': '1'}"
      ]
     },
     "execution_count": 34,
     "metadata": {},
     "output_type": "execute_result"
    }
   ],
   "source": [
    "#sorting a dictionary by values using a lambda fucntion\n",
    "d9={'a': '1', 'b': '3', 'c': '4', 'd': '5', 'e': '2'}\n",
    "d9\n",
    "{k:v for k,v in sorted(d9.items(),reverse=True, key=lambda x:x[1])}"
   ]
  },
  {
   "cell_type": "code",
   "execution_count": 35,
   "metadata": {},
   "outputs": [
    {
     "name": "stdout",
     "output_type": "stream",
     "text": [
      "enter id: 1\n",
      "enter name: abm\n",
      "Enter skills: a,b,c,d\n"
     ]
    },
    {
     "data": {
      "text/plain": [
       "{'id': '1', 'name': 'abm', 'skills': ['a', 'b', 'c', 'd']}"
      ]
     },
     "execution_count": 35,
     "metadata": {},
     "output_type": "execute_result"
    }
   ],
   "source": [
    "dict1={}\n",
    "dict1[\"id\"]=input(\"enter id: \")\n",
    "dict1[\"name\"]=input(\"enter name: \")\n",
    "dict1[\"skills\"]= input(\"Enter skills: \").split(\",\")\n",
    "dict1"
   ]
  },
  {
   "cell_type": "code",
   "execution_count": 37,
   "metadata": {},
   "outputs": [
    {
     "name": "stdout",
     "output_type": "stream",
     "text": [
      "Enter id: 1\n",
      "Enter name: a\n",
      "Enter skills: a,v,c,x\n",
      "do you want to continue?yes\n",
      "Enter id: 2\n",
      "Enter name: b\n",
      "Enter skills: 1,2,4,6\n",
      "do you want to continue?no\n",
      "[{'id': '2', 'name': 'b', 'skills': ['1', '2', '4', '6']}, {'id': '2', 'name': 'b', 'skills': ['1', '2', '4', '6']}]\n"
     ]
    }
   ],
   "source": [
    "#task: take input from user for ID, NAME and SKILLS. save this information in a list of dictionaries until user says \"NO\"\n",
    "#when asked \"do you want to continue?\"\n",
    "info = {}\n",
    "content = []\n",
    "yesOrNo=\"\"\n",
    "while yesOrNo!=\"no\":\n",
    "    info['id'] = input(\"Enter id: \")\n",
    "    info['name'] = input(\"Enter name: \")\n",
    "    info['skills'] = input(\"Enter skills: \").split(\",\")\n",
    "    content.append(info)\n",
    "    yesOrNo=input(\"do you want to continue?\")\n",
    "    \n",
    "print(content)"
   ]
  }
 ],
 "metadata": {
  "kernelspec": {
   "display_name": "Python 3",
   "language": "python",
   "name": "python3"
  },
  "language_info": {
   "codemirror_mode": {
    "name": "ipython",
    "version": 3
   },
   "file_extension": ".py",
   "mimetype": "text/x-python",
   "name": "python",
   "nbconvert_exporter": "python",
   "pygments_lexer": "ipython3",
   "version": "3.7.4"
  }
 },
 "nbformat": 4,
 "nbformat_minor": 2
}
