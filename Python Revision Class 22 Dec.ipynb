{
 "cells": [
  {
   "cell_type": "markdown",
   "metadata": {},
   "source": [
    "# WORKING WITH CONDITIONS (IF-ELSE, IF-ELIF)"
   ]
  },
  {
   "cell_type": "code",
   "execution_count": 1,
   "metadata": {},
   "outputs": [
    {
     "name": "stdout",
     "output_type": "stream",
     "text": [
      "enter marks: 65\n",
      "D grade\n"
     ]
    }
   ],
   "source": [
    "#class task 1\n",
    "a= int(input(\"enter marks: \"))\n",
    "if a>=90:\n",
    "    print(\"A grade\")\n",
    "elif a>=80 and a<90:\n",
    "    print(\"B grade\")\n",
    "elif a>=70 and a<80:\n",
    "    print(\"C grade\")\n",
    "elif a>=60 and a<70:\n",
    "    print(\"D grade\")\n",
    "else:\n",
    "    print(\"F grade\")"
   ]
  },
  {
   "cell_type": "markdown",
   "metadata": {},
   "source": [
    "# class task: case study of DVD rental\n",
    "    if rented on sunday: 30% discount\n",
    "    if rented on thursday: 50% discount\n",
    "    if returned after 8: add another day\n",
    "    if scratched:\n",
    "        +2$ for sunday\n",
    "        +1$ for other days\n",
    "        no scratch fee for thursday\n",
    "    nightly rate= $1.59 per night"
   ]
  },
  {
   "cell_type": "markdown",
   "metadata": {},
   "source": [
    "# Via if-elif"
   ]
  },
  {
   "cell_type": "code",
   "execution_count": 6,
   "metadata": {},
   "outputs": [
    {
     "name": "stdout",
     "output_type": "stream",
     "text": [
      "day rented:thursday\n",
      "time returned: 7\n",
      "condition upon return: ok\n",
      "number of nights rented: 1\n",
      "0.795\n"
     ]
    }
   ],
   "source": [
    "day= input(\"day rented:\")\n",
    "time= int(input (\"time returned: \"))\n",
    "condition= input(\"condition upon return: \")\n",
    "nights= int(input(\"number of nights rented: \"))\n",
    "if(day==\"sunday\" and condition==\"scratched\" and time<=8):\n",
    "    actual_cost= 1.59*nights+2\n",
    "    disc_cost= 0.7*actual_cost\n",
    "    print(disc_cost)\n",
    "elif(day==\"sunday\" and condition==\"scratched\" and time>8):\n",
    "    actual_cost= 1.59*(nights+1)+2\n",
    "    disc_cost= actual_cost*0.7\n",
    "    print(disc_cost)\n",
    "elif(day==\"sunday\" and condition==\"ok\" and time<=8):\n",
    "    actual_cost= 1.59*nights\n",
    "    disc_cost= 0.7*actual_cost\n",
    "    print(disc_cost)\n",
    "elif(day==\"sunday\" and condition==\"ok\" and time>8):\n",
    "    actual_cost= 1.59*(nights+1)\n",
    "    disc_cost= 0.7*actual_cost\n",
    "    print(disc_cost)\n",
    "elif(day==\"thursday\" and  time<=8):\n",
    "    actual_cost= 1.59*nights\n",
    "    disc_cost= actual_cost/2\n",
    "    print(disc_cost)\n",
    "elif(day==\"thursday\" and  time>8):\n",
    "    actual_cost= 1.59*(nights+1)\n",
    "    disc_cost= actual_cost/2\n",
    "    print(disc_cost)\n",
    "elif(day!=\"sunday\" and day!=\"thursday\" and condition==\"scratched\" and time<=8):\n",
    "    actual_cost= 1.59*nights\n",
    "    print(actual_cost+1)\n",
    "elif(day!=\"sunday\" and day!=\"thursday\" and condition==\"scratched\" and time>8):\n",
    "    actual_cost= 1.59*(nights+1)\n",
    "    print(actual_cost+1)\n",
    "elif(day!=\"sunday\" and day!=\"thursday\" and condition==\"ok\" and time>8):\n",
    "    actual_cost= 1.59*(nights+1)\n",
    "    print(actual_cost)\n",
    "else:\n",
    "    actual_cost= 1.59*nights\n",
    "    print(actual_cost)"
   ]
  },
  {
   "cell_type": "markdown",
   "metadata": {},
   "source": [
    "# VIA nested IF's"
   ]
  },
  {
   "cell_type": "code",
   "execution_count": 9,
   "metadata": {},
   "outputs": [
    {
     "name": "stdout",
     "output_type": "stream",
     "text": [
      "day rented:sunday\n",
      "time returned: 9\n",
      "condition upon return: scratched\n",
      "number of nights rented: 1\n",
      "3.6259999999999994\n"
     ]
    }
   ],
   "source": [
    "day= input(\"day rented:\")\n",
    "time= int(input (\"time returned: \"))\n",
    "condition= input(\"condition upon return: \")\n",
    "nights= int(input(\"number of nights rented: \"))\n",
    "\n",
    "if(day==\"sunday\" or day==\"Sunday\"):\n",
    "    if(time>8):\n",
    "        nights+=1\n",
    "        if(condition==\"scratched\"):\n",
    "            cost=(1.59*nights)+2\n",
    "            print(cost*0.7)\n",
    "        else:\n",
    "            cost=1.59*nights\n",
    "            print(cost*0.7)\n",
    "    else:\n",
    "        if(condition==\"scratched\"):\n",
    "            cost=(1.59*nights)+2\n",
    "            print(cost)\n",
    "        else:\n",
    "            cost=1.59*nights\n",
    "            print(cost)\n",
    "elif(day==\"thursday\" or day==\"Thursday\"):\n",
    "    if(time>8):\n",
    "        nights+=1\n",
    "        cost=1.59*nights\n",
    "        print(cost/2)\n",
    "    else:\n",
    "        cost=1.59*nights\n",
    "        print(cost/2)\n",
    "else:\n",
    "    if(time>8):\n",
    "        nights+=1\n",
    "        if(condition==\"scratched\"):\n",
    "            cost=(1.59*nights)+1\n",
    "            print(cost)\n",
    "        else:\n",
    "            cost=1.59*nights\n",
    "            print(cost)\n",
    "    else:\n",
    "        if(condition==\"scratched\"):\n",
    "            cost=(1.59*nights)+1\n",
    "            print(cost)\n",
    "        else:\n",
    "            cost=1.59*nights\n",
    "            print(cost)"
   ]
  },
  {
   "cell_type": "markdown",
   "metadata": {},
   "source": [
    "# WORKING WITH LISTS"
   ]
  },
  {
   "cell_type": "code",
   "execution_count": 11,
   "metadata": {},
   "outputs": [
    {
     "data": {
      "text/plain": [
       "['e1', 'e2', 'e3', 'e4', 'e5', 'e6', 'e7']"
      ]
     },
     "execution_count": 11,
     "metadata": {},
     "output_type": "execute_result"
    }
   ],
   "source": [
    "#            0     1    2    3    4    5    6    7    8   9    10    11\n",
    "employees= ['e1','e2','e3','e4','e5','e6','e7','m1','m2','m3','m4','m5']\n",
    "#            -12 -11 -10    -9  -8    -7   -6   -5  -4   -3    -2   -1\n",
    "employees[0:-5]"
   ]
  },
  {
   "cell_type": "code",
   "execution_count": 15,
   "metadata": {},
   "outputs": [
    {
     "name": "stdout",
     "output_type": "stream",
     "text": [
      "found at:  2\n"
     ]
    }
   ],
   "source": [
    "l=[0,1,6,3,4,5,2,7,8,9]\n",
    "index=0\n",
    "while(index<10):\n",
    "    if(l[index]==6):\n",
    "        print(\"found at: \", index)\n",
    "        break\n",
    "    else:\n",
    "        index+=1"
   ]
  },
  {
   "cell_type": "markdown",
   "metadata": {},
   "source": [
    "# working with Dictionaries (adding dictionaries)"
   ]
  },
  {
   "cell_type": "code",
   "execution_count": 19,
   "metadata": {},
   "outputs": [
    {
     "data": {
      "text/plain": [
       "{'name': 'faizan', 'age': 23, 'course': 'AI', 'salary': '22k'}"
      ]
     },
     "execution_count": 19,
     "metadata": {},
     "output_type": "execute_result"
    }
   ],
   "source": [
    "a={\"name\":\"abdullah\",\n",
    "  \"age\":24,\n",
    "   \"course\":\"AI\",\n",
    "   \"salary\":\"22k\"\n",
    "  }\n",
    "b={\"name\":\"faizan\",\n",
    "  \"age\":23,\n",
    "   \"course\":\"AI\"\n",
    "  }\n",
    "z={**a,**b}\n",
    "z"
   ]
  },
  {
   "cell_type": "code",
   "execution_count": 20,
   "metadata": {},
   "outputs": [
    {
     "data": {
      "text/plain": [
       "{'name': 'abm', 'age': 24, 'job': 'teacher'}"
      ]
     },
     "execution_count": 20,
     "metadata": {},
     "output_type": "execute_result"
    }
   ],
   "source": [
    "personData={\"name\":\"abm\",\n",
    "           \"age\":24,\n",
    "           \"job\":\"teacher\"}\n",
    "personData"
   ]
  },
  {
   "cell_type": "code",
   "execution_count": 22,
   "metadata": {},
   "outputs": [
    {
     "data": {
      "text/plain": [
       "{'name': 'abm',\n",
       " 'age': 24,\n",
       " 'job': 'teacher',\n",
       " 'hobbies': ['gaming', 'music', 'youtube']}"
      ]
     },
     "execution_count": 22,
     "metadata": {},
     "output_type": "execute_result"
    }
   ],
   "source": [
    "hobbies=[\"gaming\",\"music\",\"youtube\"]\n",
    "personData.update({\"hobbies\":hobbies})\n",
    "personData"
   ]
  },
  {
   "cell_type": "code",
   "execution_count": 27,
   "metadata": {},
   "outputs": [
    {
     "name": "stdout",
     "output_type": "stream",
     "text": [
      "None\n"
     ]
    }
   ],
   "source": [
    "#personData[\"hobbies\"]\n",
    "#but if we  make a mistake  here we will get an error message, so we can do the following instead:\n",
    "personData.get(\"hobbies\")\n",
    "#and if we make a mistake e.g\n",
    "print(personData.get(\"hobbes\"))\n",
    "#the output is simply \"None\""
   ]
  },
  {
   "cell_type": "code",
   "execution_count": 32,
   "metadata": {},
   "outputs": [
    {
     "name": "stdout",
     "output_type": "stream",
     "text": [
      "enter ID: 1\n",
      "please enter name: abm\n",
      "enter skills:java c++ c# procrastination\n",
      "press x to exit, any other key to continuex\n"
     ]
    },
    {
     "data": {
      "text/plain": [
       "[{'id': '1',\n",
       "  'name': 'abm',\n",
       "  'skills': ['java', 'c++', 'c#', 'procrastination']}]"
      ]
     },
     "execution_count": 32,
     "metadata": {},
     "output_type": "execute_result"
    }
   ],
   "source": [
    "lst=[]\n",
    "chk=''\n",
    "\n",
    "while chk.lower()!='x':\n",
    "    dict1={\n",
    "        \"id\":input(\"enter ID: \"),\n",
    "        \"name\":input(\"please enter name: \"),\n",
    "        \"skills\": input(\"enter skills:\").split()\n",
    "    }\n",
    "    lst.append(dict1)\n",
    "    chk= input(\"press x to exit, any other key to continue\")\n",
    "    \n",
    "lst"
   ]
  },
  {
   "cell_type": "code",
   "execution_count": 35,
   "metadata": {},
   "outputs": [
    {
     "name": "stdout",
     "output_type": "stream",
     "text": [
      "enter ID: 1\n",
      "please enter name: abm\n",
      "enter maths marks: 46\n",
      "enter phy marks: 23\n",
      "enter chem marks: 45\n",
      "enter comp marks: 2\n",
      "enter eng marks: 77\n",
      "enter hobbies:gaming\n",
      "press x to exit, any other key to continuex\n"
     ]
    },
    {
     "data": {
      "text/plain": [
       "[{'id': '1',\n",
       "  'name': 'abm',\n",
       "  'marks': {'maths': 46,\n",
       "   'physics': 23,\n",
       "   'chemistry': 45,\n",
       "   'computer': 2,\n",
       "   'english': 77},\n",
       "  'hobbies': ['gaming']}]"
      ]
     },
     "execution_count": 35,
     "metadata": {},
     "output_type": "execute_result"
    }
   ],
   "source": [
    "lst=[]\n",
    "chk=''\n",
    "\n",
    "while chk.lower()!='x':\n",
    "    dict1={\n",
    "        \"id\":input(\"enter ID: \"),\n",
    "        \"name\":input(\"please enter name: \"),\n",
    "        \"marks\":{\n",
    "            \"maths\":int(input(\"enter maths marks: \")),\n",
    "            \"physics\":int(input(\"enter phy marks: \")),\n",
    "            \"chemistry\":int(input(\"enter chem marks: \")),\n",
    "            \"computer\":int(input(\"enter comp marks: \")),\n",
    "            \"english\":int(input(\"enter eng marks: \"))\n",
    "        },\n",
    "        \"hobbies\": input(\"enter hobbies:\").split(',')\n",
    "    }\n",
    "    lst.append(dict1)\n",
    "    chk= input(\"press x to exit, any other key to continue\")\n",
    "    \n",
    "lst"
   ]
  }
 ],
 "metadata": {
  "kernelspec": {
   "display_name": "Python 3",
   "language": "python",
   "name": "python3"
  }
 },
 "nbformat": 4,
 "nbformat_minor": 2
}
